{
 "cells": [
  {
   "cell_type": "markdown",
   "metadata": {},
   "source": [
    "## 문제.1\n",
    "### 배열 정렬하기\n",
    "- 정수 배열 조건 2이상 10^5이하\n",
    "- 정수 배열의 데이터 값은 -100,000 ~ 1000,000이하"
   ]
  },
  {
   "cell_type": "code",
   "execution_count": 1,
   "metadata": {},
   "outputs": [],
   "source": [
    "def solution(arr):\n",
    "    arr.sort()\n",
    "    return arr"
   ]
  },
  {
   "cell_type": "code",
   "execution_count": 2,
   "metadata": {},
   "outputs": [
    {
     "data": {
      "text/plain": [
       "[-5, 1, 2, 3, 4]"
      ]
     },
     "execution_count": 2,
     "metadata": {},
     "output_type": "execute_result"
    }
   ],
   "source": [
    "solution([1,-5,2,4,3])"
   ]
  },
  {
   "cell_type": "code",
   "execution_count": 3,
   "metadata": {},
   "outputs": [
    {
     "data": {
      "text/plain": [
       "[1, 1, 2, 2, 3, 4, 5]"
      ]
     },
     "execution_count": 3,
     "metadata": {},
     "output_type": "execute_result"
    }
   ],
   "source": [
    "solution([2,1,1,3,2,5,4])"
   ]
  },
  {
   "cell_type": "code",
   "execution_count": 4,
   "metadata": {},
   "outputs": [
    {
     "data": {
      "text/plain": [
       "[1, 6, 7]"
      ]
     },
     "execution_count": 4,
     "metadata": {},
     "output_type": "execute_result"
    }
   ],
   "source": [
    "solution([6,1,7])"
   ]
  },
  {
   "cell_type": "markdown",
   "metadata": {},
   "source": [
    "- sort 정렬은 -> 시간 복잡도  : O(Nlog(N))이다\n",
    "- 해당 문제는 배열을 10^5까지 받을 수 있으므로 -> 만약 주어진 시간이 3초라면 O(N^2)을 사용할 수 없다"
   ]
  },
  {
   "cell_type": "markdown",
   "metadata": {},
   "source": [
    "- 그래도 O(N^2)즉 버블 정렬 알고리즘도 구현해보자"
   ]
  },
  {
   "cell_type": "code",
   "execution_count": 5,
   "metadata": {},
   "outputs": [],
   "source": [
    "def bubble_sort(arr):\n",
    "    n = len(arr)\n",
    "    for i in range(n):\n",
    "        for j in range(n-i-1):\n",
    "            if arr[i] > arr[j+1]:\n",
    "                arr[i], arr[j+1] = arr[j+1], arr[i]\n",
    "        \n",
    "    return arr\n"
   ]
  },
  {
   "cell_type": "code",
   "execution_count": 6,
   "metadata": {},
   "outputs": [
    {
     "name": "stdout",
     "output_type": "stream",
     "text": [
      "4.483520746231079\n",
      "0.00098419189453125\n"
     ]
    }
   ],
   "source": [
    "import time\n",
    "\n",
    "def measure_time(func, arr):\n",
    "    start_time = time.time()\n",
    "    result = func(arr)\n",
    "    end_time = time.time()\n",
    "\n",
    "    return end_time - start_time\n",
    "\n",
    "arr = list(range(10000))\n",
    "\n",
    "bubble_time = measure_time(bubble_sort,arr)\n",
    "sort_time = measure_time(solution,arr)\n",
    "\n",
    "print(bubble_time)\n",
    "print(sort_time)"
   ]
  },
  {
   "cell_type": "markdown",
   "metadata": {},
   "source": [
    "---"
   ]
  },
  {
   "cell_type": "markdown",
   "metadata": {},
   "source": [
    "## 문제.2 \n",
    "### 배열 제어하기\n",
    "-  정수 배열을 하나 받고, 중복값을 제거하고 배열 데이터를 태림차순으로 정렬하여 반환하는 solution 함수를 구현하세요\n",
    "- 배열길이 2이상 1000 이하\n",
    "- 정수 배열의 데이터 값은 -100,000 ~ 1000,000이하"
   ]
  },
  {
   "cell_type": "code",
   "execution_count": 12,
   "metadata": {},
   "outputs": [],
   "source": [
    "def solution(arr):\n",
    "    unq_list=list(set(arr))\n",
    "    unq_list.sort(reverse= True)\n",
    "    return unq_list"
   ]
  },
  {
   "cell_type": "code",
   "execution_count": 13,
   "metadata": {},
   "outputs": [
    {
     "data": {
      "text/plain": [
       "[4, 3, 2, 1]"
      ]
     },
     "execution_count": 13,
     "metadata": {},
     "output_type": "execute_result"
    }
   ],
   "source": [
    "solution([4,2,2,1,3,4])"
   ]
  },
  {
   "cell_type": "markdown",
   "metadata": {},
   "source": [
    "- 만약 sort를 사용하지 않고, 하나하나 중복을 제거하면 -> 시간복잡도는 O(N^2)이 된다\n",
    "- 중복 원소를 제거하는데 set : O(N)\n",
    "- sort 로 내림차순 정렬 : O(Nlog(N))\n",
    "> 즉 최종 시간 복잡도는 O(Nlog(N)) 이다"
   ]
  }
 ],
 "metadata": {
  "kernelspec": {
   "display_name": "Python 3",
   "language": "python",
   "name": "python3"
  },
  "language_info": {
   "codemirror_mode": {
    "name": "ipython",
    "version": 3
   },
   "file_extension": ".py",
   "mimetype": "text/x-python",
   "name": "python",
   "nbconvert_exporter": "python",
   "pygments_lexer": "ipython3",
   "version": "3.10.9"
  }
 },
 "nbformat": 4,
 "nbformat_minor": 2
}
