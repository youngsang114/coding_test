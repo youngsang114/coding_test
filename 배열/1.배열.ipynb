{
 "cells": [
  {
   "cell_type": "markdown",
   "metadata": {},
   "source": [
    "## 1.배열 개념"
   ]
  },
  {
   "cell_type": "markdown",
   "metadata": {},
   "source": [
    "- 배열은 인덱스와 값을 일대일로 대응해 관리하는 자료구조 이다\n",
    "- 인덱스를 이용해 어떤 위치에 있는 데이터든 한번에 접근할 수 있다\n",
    "- 이런 접근 방식을 **임의 접근**이라고 한다\n",
    "- 컴퓨터 메모리의 구조는 항상 1차원 -> 우리가 2,3차원으로 저장해도 실제로는 1차원 공간에 저장함"
   ]
  },
  {
   "cell_type": "code",
   "execution_count": 3,
   "metadata": {},
   "outputs": [
    {
     "data": {
      "text/plain": [
       "[0, 0, 0, 0, 0, 0]"
      ]
     },
     "execution_count": 3,
     "metadata": {},
     "output_type": "execute_result"
    }
   ],
   "source": [
    "arr = [0,0,0,0,0]\n",
    "arr = [0] *6\n",
    "arr"
   ]
  },
  {
   "cell_type": "code",
   "execution_count": 8,
   "metadata": {},
   "outputs": [
    {
     "data": {
      "text/plain": [
       "[0, 1, 2, 3, 4, 5]"
      ]
     },
     "execution_count": 8,
     "metadata": {},
     "output_type": "execute_result"
    }
   ],
   "source": [
    "arr = list(range(6))\n",
    "arr"
   ]
  },
  {
   "cell_type": "markdown",
   "metadata": {},
   "source": [
    "-  내포(comprehension) 문법\n",
    "- [표현식 for 아이템 in 반복 가능한 객체]"
   ]
  },
  {
   "cell_type": "code",
   "execution_count": 9,
   "metadata": {},
   "outputs": [
    {
     "data": {
      "text/plain": [
       "[0, 0, 0, 0, 0, 0]"
      ]
     },
     "execution_count": 9,
     "metadata": {},
     "output_type": "execute_result"
    }
   ],
   "source": [
    "arr = [0 for _ in range(6)]\n",
    "arr"
   ]
  },
  {
   "cell_type": "code",
   "execution_count": 17,
   "metadata": {},
   "outputs": [
    {
     "name": "stdout",
     "output_type": "stream",
     "text": [
      "5\n",
      "10\n"
     ]
    }
   ],
   "source": [
    "arr = [[1,2,3], [4,5,6], [7,8,9]]\n",
    "\n",
    "print(arr[1][1])\n",
    "arr[1][1]=10\n",
    "print(arr[1][1])\n",
    "\n"
   ]
  },
  {
   "cell_type": "code",
   "execution_count": 14,
   "metadata": {},
   "outputs": [
    {
     "data": {
      "text/plain": [
       "[[0, 0, 0, 0], [1, 1, 1, 1], [2, 2, 2, 2]]"
      ]
     },
     "execution_count": 14,
     "metadata": {},
     "output_type": "execute_result"
    }
   ],
   "source": [
    "arr = [[i]*4 for i in range(3)]\n",
    "arr"
   ]
  },
  {
   "cell_type": "markdown",
   "metadata": {},
   "source": [
    "---"
   ]
  },
  {
   "cell_type": "markdown",
   "metadata": {},
   "source": [
    "## 2. 배열의 효율성"
   ]
  },
  {
   "cell_type": "markdown",
   "metadata": {},
   "source": [
    "- 배열은 임의접근이라는 방법 -> 모든 위치에 있는 데이터를 한번에 접근 가능\n",
    "- 즉 데이터에 접근하는 **시간 복잡도 : O(1)**\n",
    "- 맨 뒤에 삽입하는 경우 : 다른 데이터 위치에 영향을 주지 않는다 -> **시간 복잡도 : O(1)**\n",
    "- 맨 앞에 삽입하는 경우 : 기존 데이터의 위치를 뒤로 한 칸씩 밀어야 한다 -> **시간 복잡도 : O(N)**\n",
    "- 중간에 삽입하는 경우 : 삽입한 데이터 뒤에 있는 데이터 개수만큼 미는 연산 -> **시간 복잡도 : O(N)**\n"
   ]
  },
  {
   "cell_type": "markdown",
   "metadata": {},
   "source": [
    "> 즉 배열은 특정한 경우데 데이터 추가, 삭제에 드는 비용이 많다 \n",
    ">> 배열을 저장하기 전에 **이런 비용을 생각하는 것**이 좋다"
   ]
  },
  {
   "cell_type": "markdown",
   "metadata": {},
   "source": [
    "### 배열 선택시 고려할 점\n",
    "- 데이터에 자주 접근하거나, 읽을 때 -> 배열을 사용하면 좋은 성능을 낼 수 있다\n",
    "- 하지만 배열은 메모리 공간을 충분히 확보해야하는 단점이 있다\n",
    "- 데이터에 빈번하게 접근하는 경우 효율적이지만, 메모리 낭비가 발생할 수 있다\n",
    "\n",
    "<br>\n",
    "\n",
    ">1. 할당할 수 있는 메모리 크기를 확인해야 한다\n",
    ">> 1차원 배열 : 1000만개, 2차원 배열 :ㅣ 3000 X 3000 개\n",
    "\n",
    "<br>\n",
    "\n",
    "> 2. 중간에 데이터 삽입이 많은지 확인해야 한다\n",
    ">> 배열: 선형구조 이므로 -> 많은 데이터 삽입시, 시간복잡도가 높아진다"
   ]
  },
  {
   "cell_type": "markdown",
   "metadata": {},
   "source": [
    "---"
   ]
  },
  {
   "cell_type": "markdown",
   "metadata": {},
   "source": [
    "## 3. 자주 활용하는 리스트 기법\n",
    "- 리스트 맨 끝에 데이터 삽입 : `append(인덱스)`\n",
    "- 리스트 맨 끝에 데이터 삽입 : `+ 연산자`\n",
    "- 리스트 특정 위치에 데이터 삽입 : `insert(추가할 인덱스, 추가할 값)`\n",
    "- 리스트 특정 위치에 데이터 삭제 : `pop(인덱스)`\n",
    "- 리스트 안에 첫번째, 특정 데이터 삭제 : `remove(삭제할 데이터)`"
   ]
  },
  {
   "cell_type": "code",
   "execution_count": 6,
   "metadata": {},
   "outputs": [
    {
     "name": "stdout",
     "output_type": "stream",
     "text": [
      "[1, 2, 3, 4]\n",
      "[1, 2, 3, 4, 5, 6]\n",
      "[1, 2, 100, 3, 4, 5, 6]\n"
     ]
    }
   ],
   "source": [
    "my_list = [1,2,3]\n",
    "my_list.append(4)\n",
    "print(my_list)\n",
    "\n",
    "my_list=my_list + [5,6]\n",
    "print(my_list)\n",
    "\n",
    "my_list.insert(2,100)\n",
    "print(my_list)"
   ]
  },
  {
   "cell_type": "code",
   "execution_count": 7,
   "metadata": {},
   "outputs": [
    {
     "name": "stdout",
     "output_type": "stream",
     "text": [
      "[1, 2, 4, 5]\n"
     ]
    }
   ],
   "source": [
    "my_list = [1,2,3,4,5]\n",
    "my_list.pop(2)\n",
    "print(my_list)"
   ]
  },
  {
   "cell_type": "code",
   "execution_count": 8,
   "metadata": {},
   "outputs": [
    {
     "name": "stdout",
     "output_type": "stream",
     "text": [
      "[1, 2, 3, 3, 4, 5]\n"
     ]
    }
   ],
   "source": [
    "my_list = [1,2,3,3,3,4,5]\n",
    "my_list.remove(3)\n",
    "print(my_list)"
   ]
  },
  {
   "cell_type": "markdown",
   "metadata": {},
   "source": [
    "- 리스트 컴프리핸션, 내포"
   ]
  },
  {
   "cell_type": "code",
   "execution_count": 9,
   "metadata": {},
   "outputs": [
    {
     "data": {
      "text/plain": [
       "[1, 4, 9, 16, 25]"
      ]
     },
     "execution_count": 9,
     "metadata": {},
     "output_type": "execute_result"
    }
   ],
   "source": [
    "numbers = [1,2,3,4,5]\n",
    "\n",
    "[num**2 for num in numbers]"
   ]
  },
  {
   "cell_type": "code",
   "execution_count": 11,
   "metadata": {},
   "outputs": [
    {
     "data": {
      "text/plain": [
       "[0, 0, 0, 0, 0]"
      ]
     },
     "execution_count": 11,
     "metadata": {},
     "output_type": "execute_result"
    }
   ],
   "source": [
    "[0 for _ in numbers] ## numbers 리스트 개수만큼 0으로 된 리스트가 만들어진다"
   ]
  },
  {
   "cell_type": "code",
   "execution_count": 19,
   "metadata": {},
   "outputs": [
    {
     "name": "stdout",
     "output_type": "stream",
     "text": [
      "5\n",
      "4\n",
      "2\n",
      "['apple', 'apple', 'banana', 'cheryry', 'kiwi']\n"
     ]
    }
   ],
   "source": [
    "fruits = [\"apple\",\"banana\",\"cheryry\",\"apple\",\"kiwi\"]\n",
    "\n",
    "print(len(fruits))\n",
    "print(fruits.index(\"kiwi\"))\n",
    "print(fruits.count(\"apple\"))\n",
    "fruits.sort() ## sort는 정렬된 값을 반환하지 않고, 원본 리스트를 정렬한다\n",
    "print(fruits)"
   ]
  },
  {
   "cell_type": "code",
   "execution_count": null,
   "metadata": {},
   "outputs": [],
   "source": []
  }
 ],
 "metadata": {
  "kernelspec": {
   "display_name": "Python 3",
   "language": "python",
   "name": "python3"
  },
  "language_info": {
   "codemirror_mode": {
    "name": "ipython",
    "version": 3
   },
   "file_extension": ".py",
   "mimetype": "text/x-python",
   "name": "python",
   "nbconvert_exporter": "python",
   "pygments_lexer": "ipython3",
   "version": "3.10.9"
  }
 },
 "nbformat": 4,
 "nbformat_minor": 2
}
