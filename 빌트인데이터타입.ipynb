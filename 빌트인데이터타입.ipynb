{
 "cells": [
  {
   "cell_type": "markdown",
   "metadata": {},
   "source": [
    "## 빌트인 타입 \n",
    "- 언어 자체에서 제공하는 데이터 타입과 컬렉션 데이터 타입이 있다\n",
    "- 기본 데이터 타입 : 정수형,부동소수형, 문자열 타입 등등\n",
    "- 컬렉션 데이터 타입 : 리스트, 튜플, 딕셔너리, 셋, 맵 등등"
   ]
  },
  {
   "cell_type": "markdown",
   "metadata": {},
   "source": [
    "---"
   ]
  },
  {
   "cell_type": "markdown",
   "metadata": {},
   "source": [
    "### 정수형 연산"
   ]
  },
  {
   "cell_type": "code",
   "execution_count": 3,
   "metadata": {},
   "outputs": [
    {
     "name": "stdout",
     "output_type": "stream",
     "text": [
      "17\n",
      "9\n",
      "52\n",
      "3.25\n",
      "3\n",
      "1\n",
      "-13\n",
      "13\n",
      "28561\n"
     ]
    }
   ],
   "source": [
    "a=13\n",
    "b=4\n",
    "\n",
    "print(a+b)\n",
    "print(a-b)\n",
    "print(a*b)\n",
    "print(a/b)\n",
    "print(a//b)\n",
    "print(a%b)\n",
    "print(-a)\n",
    "print(abs(-a))\n",
    "print(a**b)"
   ]
  },
  {
   "cell_type": "code",
   "execution_count": 5,
   "metadata": {},
   "outputs": [
    {
     "name": "stdout",
     "output_type": "stream",
     "text": [
      "False\n",
      "True\n",
      "True\n",
      "False\n",
      "True\n",
      "False\n"
     ]
    }
   ],
   "source": [
    "print(a==b)\n",
    "print(a!=b)\n",
    "print(a>b)\n",
    "print(a<b)\n",
    "print(a>=b)\n",
    "print(a<=b)"
   ]
  },
  {
   "cell_type": "code",
   "execution_count": 12,
   "metadata": {},
   "outputs": [
    {
     "name": "stdout",
     "output_type": "stream",
     "text": [
      "4\n",
      "13\n",
      "9\n",
      "-14\n",
      "3\n",
      "26\n"
     ]
    }
   ],
   "source": [
    "print(a&b) # 1101 100 -> 100\n",
    "print(a|b)\n",
    "print(a^b)\n",
    "print(~a)\n",
    "print(a>>2) # 11\n",
    "print(a<<1) # 11010"
   ]
  },
  {
   "cell_type": "code",
   "execution_count": 13,
   "metadata": {},
   "outputs": [
    {
     "name": "stdout",
     "output_type": "stream",
     "text": [
      "4\n",
      "13\n",
      "False\n"
     ]
    }
   ],
   "source": [
    "print(a and b)\n",
    "print(a or b)\n",
    "print(not a)"
   ]
  },
  {
   "cell_type": "markdown",
   "metadata": {},
   "source": [
    "---\n"
   ]
  },
  {
   "cell_type": "markdown",
   "metadata": {},
   "source": [
    "### 부동 소수형 연산"
   ]
  },
  {
   "cell_type": "code",
   "execution_count": 15,
   "metadata": {},
   "outputs": [
    {
     "name": "stdout",
     "output_type": "stream",
     "text": [
      "6.2\n",
      "3.7\n",
      "7.199999999999999\n",
      "3.125\n"
     ]
    }
   ],
   "source": [
    "print(2.5+3.7)\n",
    "print(7.9-4.2)\n",
    "print(1.5 * 4.8)\n",
    "print(10.0/3.2)"
   ]
  },
  {
   "cell_type": "code",
   "execution_count": 16,
   "metadata": {},
   "outputs": [
    {
     "name": "stdout",
     "output_type": "stream",
     "text": [
      "3.0\n",
      "0.39999999999999947\n",
      "9.18958683997628\n"
     ]
    }
   ],
   "source": [
    "print(10.0//3.2)\n",
    "print(10.0% 3.2)\n",
    "print(2.0**3.2)"
   ]
  },
  {
   "cell_type": "code",
   "execution_count": 20,
   "metadata": {},
   "outputs": [
    {
     "name": "stdout",
     "output_type": "stream",
     "text": [
      "False\n",
      "True\n",
      "True\n"
     ]
    }
   ],
   "source": [
    "x=0.5\n",
    "y=1.2\n",
    "z=2.0\n",
    "print(x>y and y<z)\n",
    "print(x<y or y<x)\n",
    "print(not(x>y))"
   ]
  },
  {
   "cell_type": "markdown",
   "metadata": {},
   "source": [
    "- 파이썬은 부동 소수형 데이터를 이진법으로 표현하기 때문에... 오차가 발생\n",
    "- rounding error가 발생한다! -> 앱실론을 주의하라\n",
    "- 그렇기에 epsilon을 정의하고, 두 수의 차이가 epsilon 보다 작다면 같다고 간주한다"
   ]
  },
  {
   "cell_type": "code",
   "execution_count": 28,
   "metadata": {},
   "outputs": [
    {
     "name": "stdout",
     "output_type": "stream",
     "text": [
      "2.220446049250313e-16\n",
      "5.551115123125783e-17\n",
      "a와 b는 같은 값입니다\n"
     ]
    }
   ],
   "source": [
    "import sys\n",
    "\n",
    "print(sys.float_info.epsilon) # e-16승\n",
    "\n",
    "a= 0.1+0.1+0.1\n",
    "b=0.3\n",
    "\n",
    "print(a-b)\n",
    "if abs(a-b) < sys.float_info.epsilon:\n",
    "    print(\"a와 b는 같은 값입니다\")\n",
    "else:\n",
    "    print(\"a와 b는 다른 값입니다\")"
   ]
  },
  {
   "cell_type": "markdown",
   "metadata": {},
   "source": [
    "---"
   ]
  },
  {
   "cell_type": "markdown",
   "metadata": {},
   "source": [
    "### 컬렉션 데이터 타입"
   ]
  },
  {
   "cell_type": "markdown",
   "metadata": {},
   "source": [
    "- 컬렉션 : 여러 값을 담는 데이터 타입\n",
    "- 리스트, 튜플, 딕셔너리, 셋, 문자열 등등\n",
    "- mutable, immutable 로 나눠짐\n",
    "- mutable : 리스트, 딕셔너리, 셋 \n",
    "- immutable : 정수, 부동소수점, 문자열, 튜플"
   ]
  },
  {
   "cell_type": "code",
   "execution_count": 30,
   "metadata": {},
   "outputs": [
    {
     "name": "stdout",
     "output_type": "stream",
     "text": [
      "[1, 2, 3, 4, 6]\n"
     ]
    }
   ],
   "source": [
    "my_list = [1,2,3,4,5]\n",
    "my_list[4] = 6\n",
    "print(my_list)"
   ]
  },
  {
   "cell_type": "code",
   "execution_count": 31,
   "metadata": {},
   "outputs": [
    {
     "name": "stdout",
     "output_type": "stream",
     "text": [
      "4 6\n"
     ]
    }
   ],
   "source": [
    "a= 4\n",
    "b= a\n",
    "b +=2\n",
    "print(a,b)"
   ]
  },
  {
   "cell_type": "markdown",
   "metadata": {},
   "source": [
    "- a는 4라는 이뮤터블 객체 참조\n",
    "- b도 4라는 이뮤터블 객체를 같이 참조\n",
    "- 이때 4는 이뮤터블 객체이므로, 객체 6을 새로 생성하고 b는 6을 참조"
   ]
  },
  {
   "cell_type": "markdown",
   "metadata": {},
   "source": [
    "#### 리스트\n",
    "- 시퀀스(순서)가 있는 자료형이다\n",
    "- 인덱싱. 슬라이싱이 가능하다\n",
    "- 슬라이싱은 시퀀스 자료형의 범위를 지정해서 값들을 복사하여 가져오는 방식을 말한다"
   ]
  },
  {
   "cell_type": "code",
   "execution_count": 2,
   "metadata": {},
   "outputs": [
    {
     "name": "stdout",
     "output_type": "stream",
     "text": [
      "[1, 2, 3, 4, 5]\n",
      "[1, 3, 5, 7, 9]\n",
      "[1, 2, 3, 4, 5]\n"
     ]
    }
   ],
   "source": [
    "my_list = [1,2,3,4,5]\n",
    "my_list2 = [1,3,5] + [7,9]\n",
    "my_list3= list(my_list)\n",
    "\n",
    "print(my_list)\n",
    "print(my_list2)\n",
    "print(my_list3)\n"
   ]
  },
  {
   "cell_type": "code",
   "execution_count": 7,
   "metadata": {},
   "outputs": [
    {
     "name": "stdout",
     "output_type": "stream",
     "text": [
      "[1, 2, 4, 6]\n",
      "[1, 2, 6]\n"
     ]
    }
   ],
   "source": [
    "my_list=[1,2,4]\n",
    "my_list.append(6)\n",
    "print(my_list)\n",
    "\n",
    "del my_list[2] # del은 인덱스 위치에 있는 원소를 지우는 키워드이다\n",
    "print(my_list)"
   ]
  },
  {
   "cell_type": "code",
   "execution_count": 8,
   "metadata": {},
   "outputs": [
    {
     "name": "stdout",
     "output_type": "stream",
     "text": [
      "[1, 2]\n",
      "[2, 3, 4, 5]\n",
      "[4]\n",
      "[2, 3]\n"
     ]
    }
   ],
   "source": [
    "my_list = [1,2,3,4,5]\n",
    "print(my_list[0:2])\n",
    "print(my_list[1:])\n",
    "print(my_list[3:4])\n",
    "print(my_list[-4:-2])"
   ]
  },
  {
   "cell_type": "markdown",
   "metadata": {},
   "source": [
    "#### 딕셔너리\n",
    "- 키, 값의 쌍을 저장하는 해시 테이블로 구현됨\n",
    "- 키를 사용하여 값을 검색하는 자료형"
   ]
  },
  {
   "cell_type": "code",
   "execution_count": 9,
   "metadata": {},
   "outputs": [],
   "source": [
    "my_dict={}"
   ]
  },
  {
   "cell_type": "code",
   "execution_count": 10,
   "metadata": {},
   "outputs": [
    {
     "name": "stdout",
     "output_type": "stream",
     "text": [
      "{'apple': 1, 'banana': 2, 'orange': 3}\n"
     ]
    }
   ],
   "source": [
    "my_dict[\"apple\"] = 1\n",
    "my_dict[\"banana\"] = 2\n",
    "my_dict[\"orange\"] = 3\n",
    "\n",
    "print(my_dict)"
   ]
  },
  {
   "cell_type": "code",
   "execution_count": 11,
   "metadata": {},
   "outputs": [
    {
     "name": "stdout",
     "output_type": "stream",
     "text": [
      "apple : 1\n"
     ]
    }
   ],
   "source": [
    "key = \"apple\"\n",
    "if key in my_dict:\n",
    "    value = my_dict[key]\n",
    "    print(f\"{key} : {value}\")\n",
    "else:\n",
    "    print(f\"{key}는 해당 딕셔너리에 존재하지 않습니다\")"
   ]
  },
  {
   "cell_type": "code",
   "execution_count": 12,
   "metadata": {},
   "outputs": [
    {
     "name": "stdout",
     "output_type": "stream",
     "text": [
      "{'apple': 1, 'banana': 4, 'orange': 3}\n"
     ]
    }
   ],
   "source": [
    "my_dict[\"banana\"] = 4\n",
    "print(my_dict)"
   ]
  },
  {
   "cell_type": "code",
   "execution_count": 13,
   "metadata": {},
   "outputs": [
    {
     "name": "stdout",
     "output_type": "stream",
     "text": [
      "kiwi 키가 딕셔너리에 없습니다\n"
     ]
    }
   ],
   "source": [
    "my_dict = {'apple': 1, 'banana': 2, 'cherry': 3}\n",
    "\n",
    "key = \"kiwi\"\n",
    "\n",
    "if key in my_dict:\n",
    "    print(f\"값 : {my_dict[key]}\")\n",
    "else:\n",
    "    print(f\"{key} 키가 딕셔너리에 없습니다\")"
   ]
  },
  {
   "cell_type": "markdown",
   "metadata": {},
   "source": [
    "#### 튜플\n",
    "- 이뮤터블 객체\n",
    "- 한번 생성하면 삽입, 삭제, 변경 불가능!\n",
    "- 인덱싱, 슬라이싱은 할 수 있다. 문접 자체는 리스트와 같다"
   ]
  },
  {
   "cell_type": "code",
   "execution_count": 14,
   "metadata": {},
   "outputs": [],
   "source": [
    "my_tuple=(1,2,3)"
   ]
  },
  {
   "cell_type": "code",
   "execution_count": 15,
   "metadata": {},
   "outputs": [
    {
     "name": "stdout",
     "output_type": "stream",
     "text": [
      "(1, 2, 3)\n",
      "1\n",
      "2\n",
      "3\n",
      "(1, 2)\n",
      "(1, 2)\n",
      "(2,)\n"
     ]
    }
   ],
   "source": [
    "print(my_tuple)\n",
    "print(my_tuple[0])\n",
    "print(my_tuple[1])\n",
    "print(my_tuple[2])\n",
    "\n",
    "print(my_tuple[0:2])\n",
    "print(my_tuple[:2])\n",
    "print(my_tuple[1:2])"
   ]
  },
  {
   "cell_type": "markdown",
   "metadata": {},
   "source": [
    "#### 문자열"
   ]
  },
  {
   "cell_type": "code",
   "execution_count": 16,
   "metadata": {},
   "outputs": [],
   "source": [
    "string =\"Hello world\"\n",
    "string2 = 'Hello world'"
   ]
  },
  {
   "cell_type": "code",
   "execution_count": 18,
   "metadata": {},
   "outputs": [
    {
     "name": "stdout",
     "output_type": "stream",
     "text": [
      "hello\n"
     ]
    }
   ],
   "source": [
    "string =\"hel\"\n",
    "string2 =\"lo\"\n",
    "print(string + string2)"
   ]
  },
  {
   "cell_type": "code",
   "execution_count": 19,
   "metadata": {},
   "outputs": [
    {
     "name": "stdout",
     "output_type": "stream",
     "text": [
      "heo\n"
     ]
    }
   ],
   "source": [
    "string=\"hello\"\n",
    "string=string.replace(\"l\",\"\")\n",
    "print(string)"
   ]
  },
  {
   "cell_type": "markdown",
   "metadata": {},
   "source": [
    "- 람다식 : lambda 매개변수 : 표현식 -> 해당 매개변수를 이용해서 표현식 사용\n",
    "- map : map(함수, 리스트) : 리스트위 원소를 하나하나 함수에 적용해서 -> 새로운 리스트로 담아서 반환시켜줌\n",
    "- reduce : reduce(함수, 시퀀스) : 시퀀스의 원소들을 함수에 누적해서 적용"
   ]
  },
  {
   "cell_type": "code",
   "execution_count": 22,
   "metadata": {},
   "outputs": [
    {
     "data": {
      "text/plain": [
       "[1, 4, 9, 16, 25]"
      ]
     },
     "execution_count": 22,
     "metadata": {},
     "output_type": "execute_result"
    }
   ],
   "source": [
    "num =[1,2,3,4,5]\n",
    "list(map(lambda x: x**2,num))"
   ]
  },
  {
   "cell_type": "markdown",
   "metadata": {},
   "source": [
    "---"
   ]
  },
  {
   "cell_type": "markdown",
   "metadata": {},
   "source": [
    "## 코딩 테스트 코드 구현 노하우"
   ]
  },
  {
   "cell_type": "markdown",
   "metadata": {},
   "source": [
    "### 1. 조기 반환\n",
    "- 코드의 가독성을 높여줄 뿐만 아니라 예외를 조금 더 깔끔하고 빠르게 처리할 수 있다\n",
    "- early stop, return"
   ]
  },
  {
   "cell_type": "code",
   "execution_count": 27,
   "metadata": {},
   "outputs": [
    {
     "data": {
      "text/plain": [
       "1080"
      ]
     },
     "execution_count": 27,
     "metadata": {},
     "output_type": "execute_result"
    }
   ],
   "source": [
    "def total_price(quantity, price):\n",
    "    total = quantity * price\n",
    "    if total > 100:\n",
    "        return total * 0.9\n",
    "    return total\n",
    "\n",
    "total_price(40,30)"
   ]
  },
  {
   "cell_type": "markdown",
   "metadata": {},
   "source": [
    "### 2. 보호 구문\n",
    "- 본격적인 로직 진행 전 예외처리를 추가하는 기법\n",
    "- 함수 처음에 조건문을 이용해, 초기 입력값에 대한 유효성을 검사할 수 있다"
   ]
  },
  {
   "cell_type": "code",
   "execution_count": 30,
   "metadata": {},
   "outputs": [],
   "source": [
    "def calulate_average(numbers):\n",
    "    if numbers == None:\n",
    "        return None\n",
    "    if not isinstance(numbers, list): ## numbers가 list가 아니라면\n",
    "        return None\n",
    "    if len(numbers) == 0:\n",
    "        return None\n",
    "    \n",
    "    total_sum = sum(numbers)\n",
    "    return total_sum / len(numbers)\n"
   ]
  },
  {
   "cell_type": "code",
   "execution_count": 31,
   "metadata": {},
   "outputs": [
    {
     "data": {
      "text/plain": [
       "3.0"
      ]
     },
     "execution_count": 31,
     "metadata": {},
     "output_type": "execute_result"
    }
   ],
   "source": [
    "calulate_average([1,2,3,4,5])"
   ]
  },
  {
   "cell_type": "markdown",
   "metadata": {},
   "source": [
    "### 3. 합성 함수\n",
    "- 2개 이상의 함수를 활용하여 함수를 추가로 만드는 기법"
   ]
  },
  {
   "cell_type": "code",
   "execution_count": 32,
   "metadata": {},
   "outputs": [
    {
     "data": {
      "text/plain": [
       "25"
      ]
     },
     "execution_count": 32,
     "metadata": {},
     "output_type": "execute_result"
    }
   ],
   "source": [
    "def add_three(x):\n",
    "    return x+3\n",
    "\n",
    "def square(x):\n",
    "    return x**2\n",
    "\n",
    "composed_function = lambda x : square(add_three(x))\n",
    "\n",
    "composed_function(2)"
   ]
  }
 ],
 "metadata": {
  "kernelspec": {
   "display_name": "Python 3",
   "language": "python",
   "name": "python3"
  },
  "language_info": {
   "codemirror_mode": {
    "name": "ipython",
    "version": 3
   },
   "file_extension": ".py",
   "mimetype": "text/x-python",
   "name": "python",
   "nbconvert_exporter": "python",
   "pygments_lexer": "ipython3",
   "version": "3.10.9"
  }
 },
 "nbformat": 4,
 "nbformat_minor": 2
}
