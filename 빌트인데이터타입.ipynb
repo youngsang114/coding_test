{
 "cells": [
  {
   "cell_type": "markdown",
   "metadata": {},
   "source": [
    "## 빌트인 타입 \n",
    "- 언어 자체에서 제공하는 데이터 타입과 컬렉션 데이터 타입이 있다\n",
    "- 기본 데이터 타입 : 정수형,부동소수형, 문자열 타입 등등\n",
    "- 컬렉션 데이터 타입 : 리스트, 튜플, 딕셔너리, 셋, 맵 등등"
   ]
  },
  {
   "cell_type": "markdown",
   "metadata": {},
   "source": [
    "---"
   ]
  },
  {
   "cell_type": "markdown",
   "metadata": {},
   "source": [
    "### 정수형 연산"
   ]
  },
  {
   "cell_type": "code",
   "execution_count": 3,
   "metadata": {},
   "outputs": [
    {
     "name": "stdout",
     "output_type": "stream",
     "text": [
      "17\n",
      "9\n",
      "52\n",
      "3.25\n",
      "3\n",
      "1\n",
      "-13\n",
      "13\n",
      "28561\n"
     ]
    }
   ],
   "source": [
    "a=13\n",
    "b=4\n",
    "\n",
    "print(a+b)\n",
    "print(a-b)\n",
    "print(a*b)\n",
    "print(a/b)\n",
    "print(a//b)\n",
    "print(a%b)\n",
    "print(-a)\n",
    "print(abs(-a))\n",
    "print(a**b)"
   ]
  },
  {
   "cell_type": "code",
   "execution_count": 5,
   "metadata": {},
   "outputs": [
    {
     "name": "stdout",
     "output_type": "stream",
     "text": [
      "False\n",
      "True\n",
      "True\n",
      "False\n",
      "True\n",
      "False\n"
     ]
    }
   ],
   "source": [
    "print(a==b)\n",
    "print(a!=b)\n",
    "print(a>b)\n",
    "print(a<b)\n",
    "print(a>=b)\n",
    "print(a<=b)"
   ]
  },
  {
   "cell_type": "code",
   "execution_count": 12,
   "metadata": {},
   "outputs": [
    {
     "name": "stdout",
     "output_type": "stream",
     "text": [
      "4\n",
      "13\n",
      "9\n",
      "-14\n",
      "3\n",
      "26\n"
     ]
    }
   ],
   "source": [
    "print(a&b) # 1101 100 -> 100\n",
    "print(a|b)\n",
    "print(a^b)\n",
    "print(~a)\n",
    "print(a>>2) # 11\n",
    "print(a<<1) # 11010"
   ]
  },
  {
   "cell_type": "code",
   "execution_count": 13,
   "metadata": {},
   "outputs": [
    {
     "name": "stdout",
     "output_type": "stream",
     "text": [
      "4\n",
      "13\n",
      "False\n"
     ]
    }
   ],
   "source": [
    "print(a and b)\n",
    "print(a or b)\n",
    "print(not a)"
   ]
  },
  {
   "cell_type": "markdown",
   "metadata": {},
   "source": [
    "---\n"
   ]
  },
  {
   "cell_type": "markdown",
   "metadata": {},
   "source": [
    "### 부동 소수형 연산"
   ]
  },
  {
   "cell_type": "code",
   "execution_count": 15,
   "metadata": {},
   "outputs": [
    {
     "name": "stdout",
     "output_type": "stream",
     "text": [
      "6.2\n",
      "3.7\n",
      "7.199999999999999\n",
      "3.125\n"
     ]
    }
   ],
   "source": [
    "print(2.5+3.7)\n",
    "print(7.9-4.2)\n",
    "print(1.5 * 4.8)\n",
    "print(10.0/3.2)"
   ]
  },
  {
   "cell_type": "code",
   "execution_count": 16,
   "metadata": {},
   "outputs": [
    {
     "name": "stdout",
     "output_type": "stream",
     "text": [
      "3.0\n",
      "0.39999999999999947\n",
      "9.18958683997628\n"
     ]
    }
   ],
   "source": [
    "print(10.0//3.2)\n",
    "print(10.0% 3.2)\n",
    "print(2.0**3.2)"
   ]
  },
  {
   "cell_type": "code",
   "execution_count": 20,
   "metadata": {},
   "outputs": [
    {
     "name": "stdout",
     "output_type": "stream",
     "text": [
      "False\n",
      "True\n",
      "True\n"
     ]
    }
   ],
   "source": [
    "x=0.5\n",
    "y=1.2\n",
    "z=2.0\n",
    "print(x>y and y<z)\n",
    "print(x<y or y<x)\n",
    "print(not(x>y))"
   ]
  },
  {
   "cell_type": "markdown",
   "metadata": {},
   "source": [
    "- 파이썬은 부동 소수형 데이터를 이진법으로 표현하기 때문에... 오차가 발생\n",
    "- rounding error가 발생한다! -> 앱실론을 주의하라\n",
    "- 그렇기에 epsilon을 정의하고, 두 수의 차이가 epsilon 보다 작다면 같다고 간주한다"
   ]
  },
  {
   "cell_type": "code",
   "execution_count": 28,
   "metadata": {},
   "outputs": [
    {
     "name": "stdout",
     "output_type": "stream",
     "text": [
      "2.220446049250313e-16\n",
      "5.551115123125783e-17\n",
      "a와 b는 같은 값입니다\n"
     ]
    }
   ],
   "source": [
    "import sys\n",
    "\n",
    "print(sys.float_info.epsilon) # e-16승\n",
    "\n",
    "a= 0.1+0.1+0.1\n",
    "b=0.3\n",
    "\n",
    "print(a-b)\n",
    "if abs(a-b) < sys.float_info.epsilon:\n",
    "    print(\"a와 b는 같은 값입니다\")\n",
    "else:\n",
    "    print(\"a와 b는 다른 값입니다\")"
   ]
  },
  {
   "cell_type": "markdown",
   "metadata": {},
   "source": [
    "---"
   ]
  },
  {
   "cell_type": "markdown",
   "metadata": {},
   "source": [
    "### 컬렉션 데이터 타입"
   ]
  },
  {
   "cell_type": "markdown",
   "metadata": {},
   "source": [
    "- 컬렉션 : 여러 값을 담는 데이터 타입\n",
    "- 리스트, 튜플, 딕셔너리, 셋, 문자열 등등\n",
    "- mutable, immutable 로 나눠짐\n",
    "- mutable : 리스트, 딕셔너리, 셋 \n",
    "- immutable : 정수, 부동소수점, 문자열, 튜플"
   ]
  },
  {
   "cell_type": "code",
   "execution_count": 30,
   "metadata": {},
   "outputs": [
    {
     "name": "stdout",
     "output_type": "stream",
     "text": [
      "[1, 2, 3, 4, 6]\n"
     ]
    }
   ],
   "source": [
    "my_list = [1,2,3,4,5]\n",
    "my_list[4] = 6\n",
    "print(my_list)"
   ]
  },
  {
   "cell_type": "code",
   "execution_count": 31,
   "metadata": {},
   "outputs": [
    {
     "name": "stdout",
     "output_type": "stream",
     "text": [
      "4 6\n"
     ]
    }
   ],
   "source": [
    "a= 4\n",
    "b= a\n",
    "b +=2\n",
    "print(a,b)"
   ]
  },
  {
   "cell_type": "markdown",
   "metadata": {},
   "source": [
    "- a는 4라는 이뮤터블 객체 참조\n",
    "- b도 4라는 이뮤터블 객체를 같이 참조\n",
    "- 이때 4는 이뮤터블 객체이므로, 객체 6을 새로 생성하고 b는 6을 참조"
   ]
  },
  {
   "cell_type": "code",
   "execution_count": null,
   "metadata": {},
   "outputs": [],
   "source": []
  }
 ],
 "metadata": {
  "kernelspec": {
   "display_name": "Python 3",
   "language": "python",
   "name": "python3"
  },
  "language_info": {
   "codemirror_mode": {
    "name": "ipython",
    "version": 3
   },
   "file_extension": ".py",
   "mimetype": "text/x-python",
   "name": "python",
   "nbconvert_exporter": "python",
   "pygments_lexer": "ipython3",
   "version": "3.10.9"
  }
 },
 "nbformat": 4,
 "nbformat_minor": 2
}
