{
 "cells": [
  {
   "cell_type": "markdown",
   "metadata": {},
   "source": [
    "## 복잡도(Complexity)\n",
    "\n",
    "- 복잡도는 알고리즘의 성능을 나타내는 척도이다\n",
    "    - **시간 복잡도** : 특정한 크기의 입력에 대하여 알고리즘의 수행 시간 분석\n",
    "    - **공간 복잡도** : 특정한 크기의 입력에 대하여 알고리즘의 메모리 사용량 분석\n",
    "- 동일한 기준을 수행 알고리즘이 있다면 -> 복잡도가 낮을수록 좋은 알고리즘\n"
   ]
  },
  {
   "cell_type": "markdown",
   "metadata": {},
   "source": [
    "## 빅오 표기법(Big-O Notation)\n",
    "- **가장 빠르게 증가하는 항**만을 고려하는 표기법이다\n",
    "    - 함수의 상한만을 나타나게 된다\n",
    "- 연산 횟수가 3N^3 + 5N^2 +1000000인 알고리즘이 있다고 하면\n",
    "    - 빅오 표기법에서 차수가 가장 큰 항만 남기므로 O(N^3)으로 표현됩니다\n",
    "- 빅오 표기법에 따라서 \n",
    " - O(1) :  상수시간\n",
    " - O(logN)  : 로그시간\n",
    " - O(N) : 선형시간\n",
    " - O(NlogN) : 로그 선형시간\n",
    " - O(N^2)   : 이차 시간\n",
    " - O(N^3)   : 삼차 시간\n",
    " - O(2^n)   : 지수 시간\n",
    " - 순으로 성능이 안좋아 진다...."
   ]
  },
  {
   "cell_type": "code",
   "execution_count": 3,
   "metadata": {},
   "outputs": [
    {
     "name": "stdout",
     "output_type": "stream",
     "text": [
      "15\n"
     ]
    }
   ],
   "source": [
    "array = [3,5,1,2,4]\n",
    "sum =0\n",
    "for x in array:\n",
    "    sum +=x\n",
    "\n",
    "print(sum)"
   ]
  },
  {
   "cell_type": "markdown",
   "metadata": {},
   "source": [
    "- 위의 코드의 수행 시간은 데이터의 개수 N에 비례할 것임을 예측할 수 있다\n",
    "- 시간 복잡도 : O(N) \n",
    "- 선형 시간 "
   ]
  },
  {
   "cell_type": "code",
   "execution_count": 1,
   "metadata": {},
   "outputs": [
    {
     "name": "stdout",
     "output_type": "stream",
     "text": [
      "59\n"
     ]
    }
   ],
   "source": [
    "def solution(n):\n",
    "    count=0\n",
    "    for i in range(n):   # -> O(x^2)\n",
    "        for j in range(n):\n",
    "            count +=1\n",
    "    for k in range(n):   # -> O(X)\n",
    "        count +=1\n",
    "    for i in range(2*n): # -> O(2*x)\n",
    "        count +=1\n",
    "    for i in range(5):   # -> O(5)\n",
    "        count+=1\n",
    "    \n",
    "    print(count)\n",
    "\n",
    "solution(6)"
   ]
  },
  {
   "cell_type": "markdown",
   "metadata": {},
   "source": [
    "- 시간 복잡도 : O(N^2)\n",
    "- 참고로 모든 2중 반복문의 시간 복잡도가 O(N^2)인 것은 아니다\n",
    "    - 소스코드가 내부적으로 다른 함수를 호출한다면, 그 함수의 **시간 복잡도**까지 고려해야 한다\n",
    "    "
   ]
  },
  {
   "cell_type": "markdown",
   "metadata": {},
   "source": [
    "- 일반적으로 CPU 기반의 체점용 컴퓨터에서 연산 횟수가 5억을 넘어가는 경우\n",
    "    - pyhton 기준으로 통상 5~15초 가량의 시간이 소요된다\n",
    "- O(N^3)의 알고리즘을 설계한 경우, N의 값이 5000이 넘는다면 얼마나 걸릴까?\n",
    "    - 파이썬이 1초에 5000만 번의 연산을 한다고 했을 때, 2500초가 걸린다...\n",
    "    - 코딩 테스트 문제에서 시간제한은 통상 1~5초가량이므로 유의해서 풀어야 된다 ->5000^3/50000000\n",
    "    - 내가 짠 알고리즘이 얼마나 걸릴지 예상해보자 "
   ]
  },
  {
   "cell_type": "markdown",
   "metadata": {},
   "source": [
    "- 그래서 우리가 문제에서 가장 먼저 확인해야 하는 내용은, **시간제한(수행시간 요구사항)** 이다.\n",
    "- 시간제한이 1초인 문제를 만났을 때, 일반적인 기준은 다음과 같다\n",
    "    - N의 범위가 500인 경우 -> O(N^3)\n",
    "    - N의 범위가 2000인 경우 -> O(N^2)\n",
    "    - N의 범위가 100,000인 경우 -> O(NlogN)\n",
    "    - N의 범위가 10,000,000인 경우 -> O(N)"
   ]
  },
  {
   "cell_type": "markdown",
   "metadata": {},
   "source": [
    "## 시간 복잡도  : 데이터 개수\n",
    "- O(N!) : 10\n",
    "- O(2^N) : 20~25\n",
    "- O(N^3) : 200~300\n",
    "- O(N^2) : 3000~5000\n",
    "- O(NlogN) : 100,0000\n",
    "- O(N) : 1000~1000만\n",
    "- O(logN) : 1,000,000,000 -> 10억"
   ]
  },
  {
   "cell_type": "code",
   "execution_count": 15,
   "metadata": {},
   "outputs": [
    {
     "name": "stdout",
     "output_type": "stream",
     "text": [
      "*\n",
      "**\n",
      "***\n",
      "****\n",
      "****\n",
      "***\n",
      "**\n",
      "*\n"
     ]
    }
   ],
   "source": [
    "def star(n): # 1 2 3 4.... -> 시간 복잡도 2*N(N+1)/2 = N(N+1) 즉 O(N^2)\n",
    "    for i in range(n):\n",
    "        print('*'*(i+1))\n",
    "        \n",
    "    for i in range(n):\n",
    "        print('*'*(4-i))\n",
    "star(4)"
   ]
  },
  {
   "cell_type": "code",
   "execution_count": 18,
   "metadata": {},
   "outputs": [
    {
     "data": {
      "text/plain": [
       "5"
      ]
     },
     "execution_count": 18,
     "metadata": {},
     "output_type": "execute_result"
    }
   ],
   "source": [
    "def bug(n):     # 시간 복잡도 : O(logN) , 계속 반으로 줄어드는 동작 : O(logN), 정렬, 이진트리...\n",
    "    count = 0\n",
    "    while n >0:\n",
    "        n = n//2\n",
    "        count+=1\n",
    "    return count\n",
    "\n",
    "bug(16)"
   ]
  },
  {
   "cell_type": "markdown",
   "metadata": {},
   "source": [
    "- 이렇게, 입력 크기에 따른 연산 횟수 추이를 활용해 시간 복잡도를 표현하는 방법을 : **점근적 표기법**이라고 한다\n",
    "- 앞에로 어떤 문제를 풀던, **시간 복잡도를 생각**하고 알고리즘을 고민해 보자"
   ]
  }
 ],
 "metadata": {
  "kernelspec": {
   "display_name": "Python 3",
   "language": "python",
   "name": "python3"
  },
  "language_info": {
   "codemirror_mode": {
    "name": "ipython",
    "version": 3
   },
   "file_extension": ".py",
   "mimetype": "text/x-python",
   "name": "python",
   "nbconvert_exporter": "python",
   "pygments_lexer": "ipython3",
   "version": "3.10.9"
  }
 },
 "nbformat": 4,
 "nbformat_minor": 2
}
